{
 "cells": [
  {
   "cell_type": "code",
   "execution_count": 1,
   "metadata": {},
   "outputs": [],
   "source": [
    "import numpy as np\n",
    "from qiskit import *\n",
    "from qiskit.providers.ibmq import IBMQFactory\n",
    "from qiskit.circuit.exceptions import CircuitError\n",
    "from qiskit.compiler import transpile\n",
    "from multiprocessing import Pool\n",
    "from qiskit.transpiler.exceptions import TranspilerError\n",
    "from qiskit.extensions import *\n",
    "from qiskit.extensions.unitary import UnitaryGate\n",
    "from scipy.linalg import schur\n",
    "from qiskit import *\n",
    "from qiskit.extensions import *\n",
    "import numpy as np\n",
    "\n",
    "from qiskit import BasicAer\n",
    "from qiskit.compiler import transpile\n",
    "from qiskit.quantum_info.operators import Operator, Pauli\n",
    "from qiskit.quantum_info import process_fidelity\n",
    "from qiskit.providers.aer import AerSimulator\n",
    "from qiskit.compiler import transpile\n",
    "from qiskit.quantum_info import *\n",
    "from typing import List\n",
    "import os\n",
    "\n",
    "from matplotlib import pyplot as plt\n",
    "%matplotlib inline \n",
    "os.chdir('..')"
   ]
  },
  {
   "cell_type": "code",
   "execution_count": 3,
   "metadata": {},
   "outputs": [],
   "source": [
    "import tensorflow as tf\n",
    "from tensorflow.keras.layers import MaxPooling2D, Conv2D\n",
    "from tensorflow.keras.layers import Input\n",
    "from tensorflow.keras.layers import Flatten, Dense, Dropout, Conv1D, MaxPooling1D, UpSampling1D, concatenate\n",
    "from tensorflow.keras.models import Model\n",
    "from preproccessing_utils import circuit_to_tensor_with_u_gates, GateEnumerator, generate_concatenated_dataset\n",
    "from typing import Tuple"
   ]
  },
  {
   "cell_type": "code",
   "execution_count": 9,
   "metadata": {},
   "outputs": [],
   "source": [
    "dataset = np.load(\"circuit_tensor_dataset.npy\")\n",
    "target = np.load(\"circuit_tensor_dataset_y.npy\")\n",
    "target = target.astype(np.float32)"
   ]
  },
  {
   "cell_type": "code",
   "execution_count": 44,
   "metadata": {},
   "outputs": [],
   "source": [
    "concat_dataset, y_diff = generate_concatenated_dataset(dataset, target)"
   ]
  },
  {
   "cell_type": "code",
   "execution_count": 63,
   "metadata": {},
   "outputs": [],
   "source": [
    "X = concat_dataset.reshape((concat_dataset.shape[0] * concat_dataset.shape[1],) + concat_dataset.shape[2:])\n",
    "y = y_diff.reshape((y_diff.shape[0] * y_diff.shape[1]))\n",
    "X_norm = tf.keras.utils.normalize(X)"
   ]
  },
  {
   "cell_type": "code",
   "execution_count": 41,
   "metadata": {},
   "outputs": [],
   "source": [
    "def simple_convnet2d(tensor_size, num_gates, num_channels):\n",
    "    inputs = Input(shape=(tensor_size, num_gates, num_channels))\n",
    "    conv1 = Conv2D(8, 3, activation='relu', padding='same')(inputs)\n",
    "    pool1 = MaxPooling2D(pool_size=2, strides=(2,2))(conv1)\n",
    "    conv2 = Conv2D(16, 3, activation='relu', padding='same')(pool1)\n",
    "    pool2 = MaxPooling2D(pool_size=2, strides=(2,2))(conv2)\n",
    "\n",
    "    dense_in = Flatten()(pool2)\n",
    "    drop_in = Dropout(0.25)(dense_in)\n",
    "    dense1 = Dense(10, activation='relu')(drop_in)\n",
    "    dense3 = Dense(1)(dense1)\n",
    "\n",
    "    model = Model(inputs=[inputs], outputs=[dense3])\n",
    "    return model"
   ]
  },
  {
   "cell_type": "code",
   "execution_count": 50,
   "metadata": {},
   "outputs": [],
   "source": [
    "model = simple_convnet2d(concat_dataset.shape[2], concat_dataset.shape[3], concat_dataset.shape[4])\n",
    "\n",
    "optimizer = tf.keras.optimizers.Adam(learning_rate=0.001)\n",
    "model.compile(optimizer=optimizer,\n",
    "              loss=tf.keras.losses.MeanSquaredError(),\n",
    "              metrics=[tf.keras.metrics.MeanAbsoluteError()])"
   ]
  },
  {
   "cell_type": "code",
   "execution_count": 51,
   "metadata": {},
   "outputs": [
    {
     "name": "stdout",
     "output_type": "stream",
     "text": [
      "Epoch 1/50\n",
      "125/125 [==============================] - 4s 28ms/step - loss: 0.0094 - mean_absolute_error: 0.0699\n",
      "Epoch 2/50\n",
      "125/125 [==============================] - 4s 32ms/step - loss: 0.0052 - mean_absolute_error: 0.0518\n",
      "Epoch 3/50\n",
      "125/125 [==============================] - 4s 32ms/step - loss: 0.0046 - mean_absolute_error: 0.0487\n",
      "Epoch 4/50\n",
      "125/125 [==============================] - 4s 34ms/step - loss: 0.0039 - mean_absolute_error: 0.0450\n",
      "Epoch 5/50\n",
      "125/125 [==============================] - 5s 37ms/step - loss: 0.0037 - mean_absolute_error: 0.0442\n",
      "Epoch 6/50\n",
      "125/125 [==============================] - 5s 38ms/step - loss: 0.0033 - mean_absolute_error: 0.0419\n",
      "Epoch 7/50\n",
      "125/125 [==============================] - 4s 33ms/step - loss: 0.0029 - mean_absolute_error: 0.0395\n",
      "Epoch 8/50\n",
      "125/125 [==============================] - 5s 38ms/step - loss: 0.0027 - mean_absolute_error: 0.0384\n",
      "Epoch 9/50\n",
      "125/125 [==============================] - 4s 33ms/step - loss: 0.0025 - mean_absolute_error: 0.0373\n",
      "Epoch 10/50\n",
      "125/125 [==============================] - 4s 32ms/step - loss: 0.0024 - mean_absolute_error: 0.0365\n",
      "Epoch 11/50\n",
      "125/125 [==============================] - 4s 33ms/step - loss: 0.0023 - mean_absolute_error: 0.0356\n",
      "Epoch 12/50\n",
      "125/125 [==============================] - 4s 34ms/step - loss: 0.0022 - mean_absolute_error: 0.0349\n",
      "Epoch 13/50\n",
      "125/125 [==============================] - 4s 34ms/step - loss: 0.0022 - mean_absolute_error: 0.0352\n",
      "Epoch 14/50\n",
      "125/125 [==============================] - 5s 37ms/step - loss: 0.0020 - mean_absolute_error: 0.0336\n",
      "Epoch 15/50\n",
      "125/125 [==============================] - 4s 33ms/step - loss: 0.0020 - mean_absolute_error: 0.0333\n",
      "Epoch 16/50\n",
      "125/125 [==============================] - 4s 32ms/step - loss: 0.0019 - mean_absolute_error: 0.0327\n",
      "Epoch 17/50\n",
      "125/125 [==============================] - 4s 31ms/step - loss: 0.0019 - mean_absolute_error: 0.0329\n",
      "Epoch 18/50\n",
      "125/125 [==============================] - 4s 32ms/step - loss: 0.0019 - mean_absolute_error: 0.0321\n",
      "Epoch 19/50\n",
      "125/125 [==============================] - 4s 32ms/step - loss: 0.0019 - mean_absolute_error: 0.0320\n",
      "Epoch 20/50\n",
      "125/125 [==============================] - 4s 32ms/step - loss: 0.0018 - mean_absolute_error: 0.0317\n",
      "Epoch 21/50\n",
      "125/125 [==============================] - 4s 33ms/step - loss: 0.0018 - mean_absolute_error: 0.0313\n",
      "Epoch 22/50\n",
      "125/125 [==============================] - 4s 32ms/step - loss: 0.0017 - mean_absolute_error: 0.0309\n",
      "Epoch 23/50\n",
      "125/125 [==============================] - 4s 32ms/step - loss: 0.0017 - mean_absolute_error: 0.0307\n",
      "Epoch 24/50\n",
      "125/125 [==============================] - 4s 31ms/step - loss: 0.0017 - mean_absolute_error: 0.0306\n",
      "Epoch 25/50\n",
      "125/125 [==============================] - 4s 31ms/step - loss: 0.0017 - mean_absolute_error: 0.0301\n",
      "Epoch 26/50\n",
      "125/125 [==============================] - 4s 32ms/step - loss: 0.0016 - mean_absolute_error: 0.0296\n",
      "Epoch 27/50\n",
      "125/125 [==============================] - 4s 32ms/step - loss: 0.0016 - mean_absolute_error: 0.0298\n",
      "Epoch 28/50\n",
      "125/125 [==============================] - 4s 35ms/step - loss: 0.0016 - mean_absolute_error: 0.0296\n",
      "Epoch 29/50\n",
      "125/125 [==============================] - 5s 40ms/step - loss: 0.0015 - mean_absolute_error: 0.0288\n",
      "Epoch 30/50\n",
      "125/125 [==============================] - 4s 32ms/step - loss: 0.0015 - mean_absolute_error: 0.0288\n",
      "Epoch 31/50\n",
      "125/125 [==============================] - 4s 30ms/step - loss: 0.0016 - mean_absolute_error: 0.0293\n",
      "Epoch 32/50\n",
      "125/125 [==============================] - 4s 35ms/step - loss: 0.0015 - mean_absolute_error: 0.0288\n",
      "Epoch 33/50\n",
      "125/125 [==============================] - 4s 31ms/step - loss: 0.0015 - mean_absolute_error: 0.0288\n",
      "Epoch 34/50\n",
      "125/125 [==============================] - 4s 31ms/step - loss: 0.0015 - mean_absolute_error: 0.0283\n",
      "Epoch 35/50\n",
      "125/125 [==============================] - 4s 31ms/step - loss: 0.0015 - mean_absolute_error: 0.0286\n",
      "Epoch 36/50\n",
      "125/125 [==============================] - 4s 30ms/step - loss: 0.0015 - mean_absolute_error: 0.0286\n",
      "Epoch 37/50\n",
      "125/125 [==============================] - 4s 30ms/step - loss: 0.0015 - mean_absolute_error: 0.0282\n",
      "Epoch 38/50\n",
      "125/125 [==============================] - 4s 30ms/step - loss: 0.0015 - mean_absolute_error: 0.0286\n",
      "Epoch 39/50\n",
      "125/125 [==============================] - 4s 30ms/step - loss: 0.0014 - mean_absolute_error: 0.0277\n",
      "Epoch 40/50\n",
      "125/125 [==============================] - 4s 29ms/step - loss: 0.0014 - mean_absolute_error: 0.0279\n",
      "Epoch 41/50\n",
      "125/125 [==============================] - 4s 29ms/step - loss: 0.0014 - mean_absolute_error: 0.0278\n",
      "Epoch 42/50\n",
      "125/125 [==============================] - 4s 30ms/step - loss: 0.0014 - mean_absolute_error: 0.0276\n",
      "Epoch 43/50\n",
      "125/125 [==============================] - 4s 30ms/step - loss: 0.0014 - mean_absolute_error: 0.0276\n",
      "Epoch 44/50\n",
      "125/125 [==============================] - 4s 30ms/step - loss: 0.0014 - mean_absolute_error: 0.0279\n",
      "Epoch 45/50\n",
      "125/125 [==============================] - 4s 32ms/step - loss: 0.0014 - mean_absolute_error: 0.0274\n",
      "Epoch 46/50\n",
      "125/125 [==============================] - 4s 31ms/step - loss: 0.0014 - mean_absolute_error: 0.0271\n",
      "Epoch 47/50\n",
      "125/125 [==============================] - 4s 31ms/step - loss: 0.0014 - mean_absolute_error: 0.0276\n",
      "Epoch 48/50\n",
      "125/125 [==============================] - 4s 31ms/step - loss: 0.0014 - mean_absolute_error: 0.0274\n",
      "Epoch 49/50\n",
      "125/125 [==============================] - 4s 32ms/step - loss: 0.0013 - mean_absolute_error: 0.0269\n",
      "Epoch 50/50\n",
      "125/125 [==============================] - 4s 31ms/step - loss: 0.0014 - mean_absolute_error: 0.0269\n"
     ]
    }
   ],
   "source": [
    "history = model.fit(X_norm, y, epochs=50, batch_size=128)"
   ]
  },
  {
   "cell_type": "code",
   "execution_count": 64,
   "metadata": {},
   "outputs": [],
   "source": [
    "y_pred = model.predict(X_norm)"
   ]
  },
  {
   "cell_type": "code",
   "execution_count": 56,
   "metadata": {},
   "outputs": [
    {
     "data": {
      "text/plain": [
       "[<matplotlib.lines.Line2D at 0x7fc5c814b6a0>]"
      ]
     },
     "execution_count": 56,
     "metadata": {},
     "output_type": "execute_result"
    },
    {
     "data": {
      "image/png": "[encoded data removed]",
      "text/plain": [
       "<Figure size 432x288 with 1 Axes>"
      ]
     },
     "metadata": {
      "needs_background": "light"
     },
     "output_type": "display_data"
    }
   ],
   "source": [
    "plt.plot(y)\n",
    "plt.plot(y_pred)"
   ]
  },
  {
   "cell_type": "code",
   "execution_count": 30,
   "metadata": {},
   "outputs": [],
   "source": [
    "# loss: 0.0014 - mean_absolute_error: 0.0273\n",
    "# loss = MSE, optm = Adam, lr= 0.001, dropout = .1, no batch norm"
   ]
  },
  {
   "cell_type": "code",
   "execution_count": 65,
   "metadata": {},
   "outputs": [
    {
     "data": {
      "text/plain": [
       "0.8622020831583275"
      ]
     },
     "execution_count": 65,
     "metadata": {},
     "output_type": "execute_result"
    }
   ],
   "source": [
    "from sklearn.metrics import r2_score\n",
    "from sklearn.linear_model import LinearRegression\n",
    "r2_score(y, y_pred)"
   ]
  },
  {
   "cell_type": "code",
   "execution_count": 66,
   "metadata": {},
   "outputs": [
    {
     "data": {
      "image/png": "[encoded data removed]",
      "text/plain": [
       "<Figure size 432x288 with 1 Axes>"
      ]
     },
     "metadata": {
      "needs_background": "light"
     },
     "output_type": "display_data"
    }
   ],
   "source": [
    "fig, ax = plt.subplots()\n",
    "ax.scatter(y, y_pred)\n",
    "ax.plot([y.min(), y.max()], [y.min(), y.max()], 'k--', lw=4)\n",
    "ax.set_xlabel('Actual')\n",
    "ax.set_ylabel('Predicted')\n",
    "#regression line\n",
    "\n",
    "y_test, y_predicted = y.reshape(-1,1), y_pred.reshape(-1,1)\n",
    "ax.plot(y_test, LinearRegression().fit(y_test, y_predicted).predict(y_test))\n",
    "plt.show()"
   ]
  },
  {
   "cell_type": "code",
   "execution_count": 86,
   "metadata": {},
   "outputs": [
    {
     "data": {
      "image/png": "[encoded data removed]",
      "text/plain": [
       "<Figure size 432x288 with 1 Axes>"
      ]
     },
     "metadata": {
      "needs_background": "light"
     },
     "output_type": "display_data"
    }
   ],
   "source": [
    "linreg = LinearRegression(fit_intercept=False)\n",
    "obj = linreg.fit(y_pred, y)\n",
    "trend_line = linreg.predict(y_pred)\n",
    "plt.scatter(y_pred, y)\n",
    "plt.plot(y_pred, trend_line, color='red')\n",
    "plt.xlabel('CNN output')\n",
    "plt.ylabel('True noise')\n",
    "plt.title('R-square score = {}'.format(r2_score(y, y_pred)))\n",
    "plt.show()\n",
    "# y_pred explains 0.86% of the variance"
   ]
  },
  {
   "cell_type": "code",
   "execution_count": 210,
   "metadata": {},
   "outputs": [],
   "source": [
    "# get the maximum difference in noise from each of the predictions\n",
    "# if the noise of c0 is n(c_o), we want to maximize noise n(c_0) - n(ci).\n",
    "# if n(ci) < n(c0) then n(c_0) - n(ci) > 0\n",
    "y_hat = y_pred.reshape(y_diff.shape)\n",
    "y_max_difference = np.argmax(y_hat, axis=1)"
   ]
  },
  {
   "cell_type": "code",
   "execution_count": 115,
   "metadata": {},
   "outputs": [],
   "source": [
    "y_true = y.reshape(y_diff.shape)"
   ]
  },
  {
   "cell_type": "code",
   "execution_count": 216,
   "metadata": {},
   "outputs": [],
   "source": [
    "# Ignore this step \n",
    "# best_circuits = y_true[np.arange(y_true.shape[0]), y_max_difference]"
   ]
  },
  {
   "cell_type": "code",
   "execution_count": 217,
   "metadata": {},
   "outputs": [],
   "source": [
    "# We index the true variables with the \n",
    "# best circuit indices attained from y_pred\n",
    "best_noise = target[np.arange(target.shape[0]), y_max_difference]"
   ]
  },
  {
   "cell_type": "code",
   "execution_count": 213,
   "metadata": {},
   "outputs": [],
   "source": [
    "# The unmodified transpiller circuit is always at index 0\n",
    "qasm_noise = target[np.arange(target.shape[0]), np.zeros(target.shape[0]).astype(np.int)]"
   ]
  },
  {
   "cell_type": "code",
   "execution_count": 214,
   "metadata": {},
   "outputs": [
    {
     "data": {
      "text/plain": [
       "8.114749193191528"
      ]
     },
     "execution_count": 214,
     "metadata": {},
     "output_type": "execute_result"
    }
   ],
   "source": [
    "# Average percentage of noice mitigated \n",
    "100 - ((np.mean(best_noise) / np.mean(qasm_noise)) * 100)"
   ]
  },
  {
   "cell_type": "code",
   "execution_count": 215,
   "metadata": {},
   "outputs": [
    {
     "data": {
      "text/plain": [
       "(0.9061358, 0.9861602)"
      ]
     },
     "execution_count": 215,
     "metadata": {},
     "output_type": "execute_result"
    }
   ],
   "source": [
    "# Average noise\n",
    "np.mean(best_noise), np.mean(qasm_noise)"
   ]
  },
  {
   "cell_type": "code",
   "execution_count": null,
   "metadata": {},
   "outputs": [],
   "source": []
  }
 ],
 "metadata": {
  "kernelspec": {
   "display_name": "Python 3",
   "language": "python",
   "name": "python3"
  },
  "language_info": {
   "codemirror_mode": {
    "name": "ipython",
    "version": 3
   },
   "file_extension": ".py",
   "mimetype": "text/x-python",
   "name": "python",
   "nbconvert_exporter": "python",
   "pygments_lexer": "ipython3",
   "version": "3.8.5"
  }
 },
 "nbformat": 4,
 "nbformat_minor": 4
}
