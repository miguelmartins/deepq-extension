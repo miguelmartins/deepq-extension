{
 "cells": [
  {
   "cell_type": "code",
   "execution_count": 251,
   "metadata": {},
   "outputs": [],
   "source": [
    "import numpy as np\n",
    "from qiskit import *\n",
    "from qiskit.providers.ibmq import IBMQFactory\n",
    "from qiskit.circuit.exceptions import CircuitError\n",
    "from qiskit.compiler import transpile\n",
    "from multiprocessing import Pool\n",
    "from qiskit.transpiler.exceptions import TranspilerError\n",
    "from qiskit.extensions import *\n",
    "from qiskit.extensions.unitary import UnitaryGate\n",
    "from scipy.linalg import schur\n",
    "from qiskit import *\n",
    "from qiskit.extensions import *\n",
    "import numpy as np\n",
    "\n",
    "from qiskit import BasicAer\n",
    "from qiskit.compiler import transpile\n",
    "from qiskit.quantum_info.operators import Operator, Pauli\n",
    "from qiskit.quantum_info import process_fidelity\n",
    "from qiskit.providers.aer import AerSimulator\n",
    "from qiskit.compiler import transpile\n",
    "from qiskit.quantum_info import *\n",
    "from typing import List\n",
    "import os\n",
    "\n",
    "from matplotlib import pyplot as plt\n",
    "%matplotlib inline \n",
    "os.chdir('..')"
   ]
  },
  {
   "cell_type": "code",
   "execution_count": 3,
   "metadata": {},
   "outputs": [],
   "source": [
    "import tensorflow as tf\n",
    "from tensorflow.keras.layers import MaxPooling2D, Conv2D\n",
    "from tensorflow.keras.layers import Input\n",
    "from tensorflow.keras.layers import Flatten, Dense, Dropout, Conv1D, MaxPooling1D, UpSampling1D, concatenate\n",
    "from tensorflow.keras.models import Model\n",
    "from preproccessing_utils import circuit_to_tensor_with_u_gates, GateEnumerator, generate_concatenated_dataset\n",
    "from typing import Tuple"
   ]
  },
  {
   "cell_type": "code",
   "execution_count": 9,
   "metadata": {},
   "outputs": [],
   "source": [
    "dataset = np.load(\"circuit_tensor_dataset.npy\")\n",
    "target = np.load(\"circuit_tensor_dataset_y.npy\")\n",
    "target = target.astype(np.float32)"
   ]
  },
  {
   "cell_type": "code",
   "execution_count": 258,
   "metadata": {},
   "outputs": [],
   "source": [
    "concat_dataset, y_diff = generate_concatenated_dataset(dataset, target)"
   ]
  },
  {
   "cell_type": "code",
   "execution_count": 259,
   "metadata": {},
   "outputs": [],
   "source": [
    "X = concat_dataset.reshape((concat_dataset.shape[0] * concat_dataset.shape[1],) + concat_dataset.shape[2:])\n",
    "y = y_diff.reshape((y_diff.shape[0] * y_diff.shape[1]))\n",
    "X_norm = tf.keras.utils.normalize(X)"
   ]
  },
  {
   "cell_type": "code",
   "execution_count": 41,
   "metadata": {},
   "outputs": [],
   "source": [
    "def simple_convnet2d(tensor_size, num_gates, num_channels):\n",
    "    inputs = Input(shape=(tensor_size, num_gates, num_channels))\n",
    "    conv1 = Conv2D(8, 3, activation='relu', padding='same')(inputs)\n",
    "    pool1 = MaxPooling2D(pool_size=2, strides=(2,2))(conv1)\n",
    "    conv2 = Conv2D(16, 3, activation='relu', padding='same')(pool1)\n",
    "    pool2 = MaxPooling2D(pool_size=2, strides=(2,2))(conv2)\n",
    "\n",
    "    dense_in = Flatten()(pool2)\n",
    "    drop_in = Dropout(0.25)(dense_in)\n",
    "    dense1 = Dense(10, activation='relu')(drop_in)\n",
    "    dense3 = Dense(1)(dense1)\n",
    "\n",
    "    model = Model(inputs=[inputs], outputs=[dense3])\n",
    "    return model"
   ]
  },
  {
   "cell_type": "code",
   "execution_count": 50,
   "metadata": {},
   "outputs": [],
   "source": [
    "model = simple_convnet2d(concat_dataset.shape[2], concat_dataset.shape[3], concat_dataset.shape[4])\n",
    "\n",
    "optimizer = tf.keras.optimizers.Adam(learning_rate=0.001)\n",
    "model.compile(optimizer=optimizer,\n",
    "              loss=tf.keras.losses.MeanSquaredError(),\n",
    "              metrics=[tf.keras.metrics.MeanAbsoluteError()])"
   ]
  },
  {
   "cell_type": "code",
   "execution_count": 51,
   "metadata": {},
   "outputs": [
    {
     "name": "stdout",
     "output_type": "stream",
     "text": [
      "Epoch 1/50\n",
      "125/125 [==============================] - 4s 28ms/step - loss: 0.0094 - mean_absolute_error: 0.0699\n",
      "Epoch 2/50\n",
      "125/125 [==============================] - 4s 32ms/step - loss: 0.0052 - mean_absolute_error: 0.0518\n",
      "Epoch 3/50\n",
      "125/125 [==============================] - 4s 32ms/step - loss: 0.0046 - mean_absolute_error: 0.0487\n",
      "Epoch 4/50\n",
      "125/125 [==============================] - 4s 34ms/step - loss: 0.0039 - mean_absolute_error: 0.0450\n",
      "Epoch 5/50\n",
      "125/125 [==============================] - 5s 37ms/step - loss: 0.0037 - mean_absolute_error: 0.0442\n",
      "Epoch 6/50\n",
      "125/125 [==============================] - 5s 38ms/step - loss: 0.0033 - mean_absolute_error: 0.0419\n",
      "Epoch 7/50\n",
      "125/125 [==============================] - 4s 33ms/step - loss: 0.0029 - mean_absolute_error: 0.0395\n",
      "Epoch 8/50\n",
      "125/125 [==============================] - 5s 38ms/step - loss: 0.0027 - mean_absolute_error: 0.0384\n",
      "Epoch 9/50\n",
      "125/125 [==============================] - 4s 33ms/step - loss: 0.0025 - mean_absolute_error: 0.0373\n",
      "Epoch 10/50\n",
      "125/125 [==============================] - 4s 32ms/step - loss: 0.0024 - mean_absolute_error: 0.0365\n",
      "Epoch 11/50\n",
      "125/125 [==============================] - 4s 33ms/step - loss: 0.0023 - mean_absolute_error: 0.0356\n",
      "Epoch 12/50\n",
      "125/125 [==============================] - 4s 34ms/step - loss: 0.0022 - mean_absolute_error: 0.0349\n",
      "Epoch 13/50\n",
      "125/125 [==============================] - 4s 34ms/step - loss: 0.0022 - mean_absolute_error: 0.0352\n",
      "Epoch 14/50\n",
      "125/125 [==============================] - 5s 37ms/step - loss: 0.0020 - mean_absolute_error: 0.0336\n",
      "Epoch 15/50\n",
      "125/125 [==============================] - 4s 33ms/step - loss: 0.0020 - mean_absolute_error: 0.0333\n",
      "Epoch 16/50\n",
      "125/125 [==============================] - 4s 32ms/step - loss: 0.0019 - mean_absolute_error: 0.0327\n",
      "Epoch 17/50\n",
      "125/125 [==============================] - 4s 31ms/step - loss: 0.0019 - mean_absolute_error: 0.0329\n",
      "Epoch 18/50\n",
      "125/125 [==============================] - 4s 32ms/step - loss: 0.0019 - mean_absolute_error: 0.0321\n",
      "Epoch 19/50\n",
      "125/125 [==============================] - 4s 32ms/step - loss: 0.0019 - mean_absolute_error: 0.0320\n",
      "Epoch 20/50\n",
      "125/125 [==============================] - 4s 32ms/step - loss: 0.0018 - mean_absolute_error: 0.0317\n",
      "Epoch 21/50\n",
      "125/125 [==============================] - 4s 33ms/step - loss: 0.0018 - mean_absolute_error: 0.0313\n",
      "Epoch 22/50\n",
      "125/125 [==============================] - 4s 32ms/step - loss: 0.0017 - mean_absolute_error: 0.0309\n",
      "Epoch 23/50\n",
      "125/125 [==============================] - 4s 32ms/step - loss: 0.0017 - mean_absolute_error: 0.0307\n",
      "Epoch 24/50\n",
      "125/125 [==============================] - 4s 31ms/step - loss: 0.0017 - mean_absolute_error: 0.0306\n",
      "Epoch 25/50\n",
      "125/125 [==============================] - 4s 31ms/step - loss: 0.0017 - mean_absolute_error: 0.0301\n",
      "Epoch 26/50\n",
      "125/125 [==============================] - 4s 32ms/step - loss: 0.0016 - mean_absolute_error: 0.0296\n",
      "Epoch 27/50\n",
      "125/125 [==============================] - 4s 32ms/step - loss: 0.0016 - mean_absolute_error: 0.0298\n",
      "Epoch 28/50\n",
      "125/125 [==============================] - 4s 35ms/step - loss: 0.0016 - mean_absolute_error: 0.0296\n",
      "Epoch 29/50\n",
      "125/125 [==============================] - 5s 40ms/step - loss: 0.0015 - mean_absolute_error: 0.0288\n",
      "Epoch 30/50\n",
      "125/125 [==============================] - 4s 32ms/step - loss: 0.0015 - mean_absolute_error: 0.0288\n",
      "Epoch 31/50\n",
      "125/125 [==============================] - 4s 30ms/step - loss: 0.0016 - mean_absolute_error: 0.0293\n",
      "Epoch 32/50\n",
      "125/125 [==============================] - 4s 35ms/step - loss: 0.0015 - mean_absolute_error: 0.0288\n",
      "Epoch 33/50\n",
      "125/125 [==============================] - 4s 31ms/step - loss: 0.0015 - mean_absolute_error: 0.0288\n",
      "Epoch 34/50\n",
      "125/125 [==============================] - 4s 31ms/step - loss: 0.0015 - mean_absolute_error: 0.0283\n",
      "Epoch 35/50\n",
      "125/125 [==============================] - 4s 31ms/step - loss: 0.0015 - mean_absolute_error: 0.0286\n",
      "Epoch 36/50\n",
      "125/125 [==============================] - 4s 30ms/step - loss: 0.0015 - mean_absolute_error: 0.0286\n",
      "Epoch 37/50\n",
      "125/125 [==============================] - 4s 30ms/step - loss: 0.0015 - mean_absolute_error: 0.0282\n",
      "Epoch 38/50\n",
      "125/125 [==============================] - 4s 30ms/step - loss: 0.0015 - mean_absolute_error: 0.0286\n",
      "Epoch 39/50\n",
      "125/125 [==============================] - 4s 30ms/step - loss: 0.0014 - mean_absolute_error: 0.0277\n",
      "Epoch 40/50\n",
      "125/125 [==============================] - 4s 29ms/step - loss: 0.0014 - mean_absolute_error: 0.0279\n",
      "Epoch 41/50\n",
      "125/125 [==============================] - 4s 29ms/step - loss: 0.0014 - mean_absolute_error: 0.0278\n",
      "Epoch 42/50\n",
      "125/125 [==============================] - 4s 30ms/step - loss: 0.0014 - mean_absolute_error: 0.0276\n",
      "Epoch 43/50\n",
      "125/125 [==============================] - 4s 30ms/step - loss: 0.0014 - mean_absolute_error: 0.0276\n",
      "Epoch 44/50\n",
      "125/125 [==============================] - 4s 30ms/step - loss: 0.0014 - mean_absolute_error: 0.0279\n",
      "Epoch 45/50\n",
      "125/125 [==============================] - 4s 32ms/step - loss: 0.0014 - mean_absolute_error: 0.0274\n",
      "Epoch 46/50\n",
      "125/125 [==============================] - 4s 31ms/step - loss: 0.0014 - mean_absolute_error: 0.0271\n",
      "Epoch 47/50\n",
      "125/125 [==============================] - 4s 31ms/step - loss: 0.0014 - mean_absolute_error: 0.0276\n",
      "Epoch 48/50\n",
      "125/125 [==============================] - 4s 31ms/step - loss: 0.0014 - mean_absolute_error: 0.0274\n",
      "Epoch 49/50\n",
      "125/125 [==============================] - 4s 32ms/step - loss: 0.0013 - mean_absolute_error: 0.0269\n",
      "Epoch 50/50\n",
      "125/125 [==============================] - 4s 31ms/step - loss: 0.0014 - mean_absolute_error: 0.0269\n"
     ]
    }
   ],
   "source": [
    "history = model.fit(X_norm, y, epochs=50, batch_size=128)"
   ]
  },
  {
   "cell_type": "code",
   "execution_count": 64,
   "metadata": {},
   "outputs": [],
   "source": [
    "y_pred = model.predict(X_norm)"
   ]
  },
  {
   "cell_type": "code",
   "execution_count": 56,
   "metadata": {},
   "outputs": [
    {
     "data": {
      "text/plain": [
       "[<matplotlib.lines.Line2D at 0x7fc5c814b6a0>]"
      ]
     },
     "execution_count": 56,
     "metadata": {},
     "output_type": "execute_result"
    },
    {
     "data": {
      "image/png": "[encoded data removed]",
      "text/plain": [
       "<Figure size 432x288 with 1 Axes>"
      ]
     },
     "metadata": {
      "needs_background": "light"
     },
     "output_type": "display_data"
    }
   ],
   "source": [
    "plt.plot(y)\n",
    "plt.plot(y_pred)"
   ]
  },
  {
   "cell_type": "code",
   "execution_count": 30,
   "metadata": {},
   "outputs": [],
   "source": [
    "# loss: 0.0014 - mean_absolute_error: 0.0273\n",
    "# loss = MSE, optm = Adam, lr= 0.001, dropout = .1, no batch norm"
   ]
  },
  {
   "cell_type": "code",
   "execution_count": 221,
   "metadata": {},
   "outputs": [],
   "source": [
    "from sklearn.metrics import r2_score\n",
    "from sklearn.linear_model import LinearRegression"
   ]
  },
  {
   "cell_type": "code",
   "execution_count": 219,
   "metadata": {},
   "outputs": [
    {
     "data": {
      "image/png": "[encoded data removed]",
      "text/plain": [
       "<Figure size 432x288 with 1 Axes>"
      ]
     },
     "metadata": {
      "needs_background": "light"
     },
     "output_type": "display_data"
    }
   ],
   "source": [
    "linreg = LinearRegression(fit_intercept=False)\n",
    "obj = linreg.fit(y_pred, y)\n",
    "trend_line = linreg.predict(y_pred)\n",
    "plt.scatter(y_pred, y)\n",
    "plt.plot(y_pred, trend_line, color='red')\n",
    "plt.xlabel('CNN output')\n",
    "plt.ylabel('True noise')\n",
    "plt.title('R-square score = {}'.format(r2_score(y, y_pred)))\n",
    "plt.show()\n",
    "# y_pred explains 0.86% of the variance"
   ]
  },
  {
   "cell_type": "code",
   "execution_count": 210,
   "metadata": {},
   "outputs": [],
   "source": [
    "# get the maximum difference in noise from each of the predictions\n",
    "# if the noise of c0 is n(c_o), we want to maximize noise n(c_0) - n(ci).\n",
    "# if n(ci) < n(c0) then n(c_0) - n(ci) > 0\n",
    "y_hat = y_pred.reshape(y_diff.shape)\n",
    "y_max_difference = np.argmax(y_hat, axis=1)"
   ]
  },
  {
   "cell_type": "code",
   "execution_count": 115,
   "metadata": {},
   "outputs": [],
   "source": [
    "y_true = y.reshape(y_diff.shape)"
   ]
  },
  {
   "cell_type": "code",
   "execution_count": 216,
   "metadata": {},
   "outputs": [],
   "source": [
    "# Ignore this step \n",
    "# best_circuits = y_true[np.arange(y_true.shape[0]), y_max_difference]"
   ]
  },
  {
   "cell_type": "code",
   "execution_count": 217,
   "metadata": {},
   "outputs": [],
   "source": [
    "# We index the true variables with the \n",
    "# best circuit indices attained from y_pred\n",
    "best_noise = target[np.arange(target.shape[0]), y_max_difference]"
   ]
  },
  {
   "cell_type": "code",
   "execution_count": 213,
   "metadata": {},
   "outputs": [],
   "source": [
    "# The unmodified transpiller circuit is always at index 0\n",
    "qasm_noise = target[np.arange(target.shape[0]), np.zeros(target.shape[0]).astype(np.int)]"
   ]
  },
  {
   "cell_type": "code",
   "execution_count": 214,
   "metadata": {},
   "outputs": [
    {
     "data": {
      "text/plain": [
       "8.114749193191528"
      ]
     },
     "execution_count": 214,
     "metadata": {},
     "output_type": "execute_result"
    }
   ],
   "source": [
    "# Average percentage of noise mitigated \n",
    "100 - ((np.mean(best_noise) / np.mean(qasm_noise)) * 100)"
   ]
  },
  {
   "cell_type": "code",
   "execution_count": 234,
   "metadata": {},
   "outputs": [],
   "source": [
    "random_choice = np.random.randint(low=0, high=16, size=y_max_difference.shape[0])"
   ]
  },
  {
   "cell_type": "code",
   "execution_count": 238,
   "metadata": {},
   "outputs": [],
   "source": [
    "# Taking a random guess\n",
    "random_noise = target[np.arange(target.shape[0]), random_choice]"
   ]
  },
  {
   "cell_type": "code",
   "execution_count": 241,
   "metadata": {},
   "outputs": [
    {
     "data": {
      "text/plain": [
       "(0.9061358, 0.9861602, 0.9259538)"
      ]
     },
     "execution_count": 241,
     "metadata": {},
     "output_type": "execute_result"
    }
   ],
   "source": [
    "# Average noise\n",
    "np.mean(best_noise), np.mean(qasm_noise), np.mean(random_noise)"
   ]
  },
  {
   "cell_type": "code",
   "execution_count": 252,
   "metadata": {},
   "outputs": [
    {
     "data": {
      "text/plain": [
       "(0.21495403, 0.2677426, 0.22457531)"
      ]
     },
     "execution_count": 252,
     "metadata": {},
     "output_type": "execute_result"
    }
   ],
   "source": [
    "np.var(best_noise), np.var(qasm_noise), np.var(random_noise)"
   ]
  },
  {
   "cell_type": "code",
   "execution_count": 277,
   "metadata": {},
   "outputs": [],
   "source": [
    "# Generate the datasets for each folder\n",
    "from sklearn.model_selection import KFold\n",
    "num_folds = 5\n",
    "kf = KFold(n_splits=5)\n",
    "kf.get_n_splits(y)\n",
    "\n",
    "folds_x_train, folds_x_test, folds_y_train, folds_y_test = [], [], [], []\n",
    "for train_index, test_index in kf.split(X):\n",
    "    X_train, X_test = X[train_index], X[test_index]\n",
    "    y_train, y_test = y[train_index], y[test_index]\n",
    "    folds_x_train.append(X_train)\n",
    "    folds_x_test.append(X_test)\n",
    "    folds_y_train.append(y_train)\n",
    "    folds_y_test.append(y_test)\n",
    "    "
   ]
  },
  {
   "cell_type": "code",
   "execution_count": 276,
   "metadata": {},
   "outputs": [
    {
     "name": "stdout",
     "output_type": "stream",
     "text": [
      "Epoch 1/50\n",
      "100/100 [==============================] - 4s 38ms/step - loss: 0.0180 - mean_absolute_error: 0.0934 - val_loss: 0.0094 - val_mean_absolute_error: 0.0707\n",
      "Epoch 2/50\n",
      "100/100 [==============================] - 3s 33ms/step - loss: 0.0063 - mean_absolute_error: 0.0600 - val_loss: 0.0085 - val_mean_absolute_error: 0.0662\n",
      "Epoch 3/50\n",
      "100/100 [==============================] - 3s 35ms/step - loss: 0.0056 - mean_absolute_error: 0.0555 - val_loss: 0.0084 - val_mean_absolute_error: 0.0644\n",
      "Epoch 4/50\n",
      "100/100 [==============================] - 4s 37ms/step - loss: 0.0055 - mean_absolute_error: 0.0544 - val_loss: 0.0081 - val_mean_absolute_error: 0.0621\n",
      "Epoch 5/50\n",
      "100/100 [==============================] - 4s 37ms/step - loss: 0.0050 - mean_absolute_error: 0.0512 - val_loss: 0.0077 - val_mean_absolute_error: 0.0587\n",
      "Epoch 6/50\n",
      "100/100 [==============================] - 4s 37ms/step - loss: 0.0048 - mean_absolute_error: 0.0491 - val_loss: 0.0074 - val_mean_absolute_error: 0.0575\n",
      "Epoch 7/50\n",
      "100/100 [==============================] - 4s 36ms/step - loss: 0.0044 - mean_absolute_error: 0.0477 - val_loss: 0.0074 - val_mean_absolute_error: 0.0575\n",
      "Epoch 8/50\n",
      "100/100 [==============================] - 4s 37ms/step - loss: 0.0040 - mean_absolute_error: 0.0456 - val_loss: 0.0073 - val_mean_absolute_error: 0.0578\n",
      "Epoch 9/50\n",
      "100/100 [==============================] - 4s 36ms/step - loss: 0.0036 - mean_absolute_error: 0.0437 - val_loss: 0.0078 - val_mean_absolute_error: 0.0601\n",
      "Epoch 10/50\n",
      "100/100 [==============================] - 4s 37ms/step - loss: 0.0035 - mean_absolute_error: 0.0426 - val_loss: 0.0076 - val_mean_absolute_error: 0.0597\n",
      "Epoch 11/50\n",
      "100/100 [==============================] - 4s 38ms/step - loss: 0.0031 - mean_absolute_error: 0.0407 - val_loss: 0.0081 - val_mean_absolute_error: 0.0618\n",
      "Epoch 12/50\n",
      "100/100 [==============================] - 4s 39ms/step - loss: 0.0029 - mean_absolute_error: 0.0395 - val_loss: 0.0076 - val_mean_absolute_error: 0.0606\n",
      "Epoch 13/50\n",
      "100/100 [==============================] - 4s 44ms/step - loss: 0.0027 - mean_absolute_error: 0.0382 - val_loss: 0.0077 - val_mean_absolute_error: 0.0610\n",
      "Epoch 14/50\n",
      "100/100 [==============================] - 4s 38ms/step - loss: 0.0026 - mean_absolute_error: 0.0374 - val_loss: 0.0078 - val_mean_absolute_error: 0.0609\n",
      "Epoch 15/50\n",
      "100/100 [==============================] - 4s 38ms/step - loss: 0.0025 - mean_absolute_error: 0.0364 - val_loss: 0.0077 - val_mean_absolute_error: 0.0609\n",
      "Epoch 16/50\n",
      "100/100 [==============================] - 4s 38ms/step - loss: 0.0024 - mean_absolute_error: 0.0360 - val_loss: 0.0086 - val_mean_absolute_error: 0.0643\n",
      "Epoch 17/50\n",
      "100/100 [==============================] - 4s 38ms/step - loss: 0.0023 - mean_absolute_error: 0.0354 - val_loss: 0.0082 - val_mean_absolute_error: 0.0629\n",
      "Epoch 18/50\n",
      "100/100 [==============================] - 4s 38ms/step - loss: 0.0022 - mean_absolute_error: 0.0346 - val_loss: 0.0082 - val_mean_absolute_error: 0.0627\n",
      "Epoch 19/50\n",
      "100/100 [==============================] - 4s 38ms/step - loss: 0.0021 - mean_absolute_error: 0.0340 - val_loss: 0.0084 - val_mean_absolute_error: 0.0628\n",
      "Epoch 20/50\n",
      "100/100 [==============================] - 4s 38ms/step - loss: 0.0021 - mean_absolute_error: 0.0338 - val_loss: 0.0086 - val_mean_absolute_error: 0.0636\n",
      "Epoch 21/50\n",
      "100/100 [==============================] - 4s 39ms/step - loss: 0.0020 - mean_absolute_error: 0.0332 - val_loss: 0.0083 - val_mean_absolute_error: 0.0632\n",
      "Epoch 22/50\n",
      "100/100 [==============================] - 4s 38ms/step - loss: 0.0019 - mean_absolute_error: 0.0324 - val_loss: 0.0085 - val_mean_absolute_error: 0.0637\n",
      "Epoch 23/50\n",
      "100/100 [==============================] - 4s 37ms/step - loss: 0.0019 - mean_absolute_error: 0.0323 - val_loss: 0.0084 - val_mean_absolute_error: 0.0636\n",
      "Epoch 24/50\n",
      "100/100 [==============================] - 4s 36ms/step - loss: 0.0019 - mean_absolute_error: 0.0316 - val_loss: 0.0087 - val_mean_absolute_error: 0.0640\n",
      "Epoch 25/50\n",
      "100/100 [==============================] - 4s 38ms/step - loss: 0.0018 - mean_absolute_error: 0.0314 - val_loss: 0.0083 - val_mean_absolute_error: 0.0645\n",
      "Epoch 26/50\n",
      "100/100 [==============================] - 4s 41ms/step - loss: 0.0018 - mean_absolute_error: 0.0316 - val_loss: 0.0083 - val_mean_absolute_error: 0.0633\n",
      "Epoch 27/50\n",
      "100/100 [==============================] - 4s 38ms/step - loss: 0.0018 - mean_absolute_error: 0.0321 - val_loss: 0.0086 - val_mean_absolute_error: 0.0642\n",
      "Epoch 28/50\n",
      "100/100 [==============================] - 4s 37ms/step - loss: 0.0018 - mean_absolute_error: 0.0315 - val_loss: 0.0086 - val_mean_absolute_error: 0.0639\n",
      "Epoch 29/50\n",
      "100/100 [==============================] - 5s 50ms/step - loss: 0.0018 - mean_absolute_error: 0.0311 - val_loss: 0.0089 - val_mean_absolute_error: 0.0647\n",
      "Epoch 30/50\n",
      "100/100 [==============================] - 4s 44ms/step - loss: 0.0018 - mean_absolute_error: 0.0313 - val_loss: 0.0084 - val_mean_absolute_error: 0.0635\n",
      "Epoch 31/50\n",
      "100/100 [==============================] - 4s 44ms/step - loss: 0.0017 - mean_absolute_error: 0.0311 - val_loss: 0.0083 - val_mean_absolute_error: 0.0637\n",
      "Epoch 32/50\n",
      "100/100 [==============================] - 4s 44ms/step - loss: 0.0017 - mean_absolute_error: 0.0307 - val_loss: 0.0087 - val_mean_absolute_error: 0.0644\n",
      "Epoch 33/50\n",
      "100/100 [==============================] - 4s 43ms/step - loss: 0.0017 - mean_absolute_error: 0.0301 - val_loss: 0.0085 - val_mean_absolute_error: 0.0638\n",
      "Epoch 34/50\n",
      "100/100 [==============================] - 5s 47ms/step - loss: 0.0017 - mean_absolute_error: 0.0304 - val_loss: 0.0087 - val_mean_absolute_error: 0.0642\n",
      "Epoch 35/50\n",
      "100/100 [==============================] - 4s 44ms/step - loss: 0.0017 - mean_absolute_error: 0.0301 - val_loss: 0.0085 - val_mean_absolute_error: 0.0641\n",
      "Epoch 36/50\n",
      "100/100 [==============================] - 4s 37ms/step - loss: 0.0016 - mean_absolute_error: 0.0296 - val_loss: 0.0086 - val_mean_absolute_error: 0.0636\n",
      "Epoch 37/50\n",
      "100/100 [==============================] - 4s 37ms/step - loss: 0.0016 - mean_absolute_error: 0.0300 - val_loss: 0.0085 - val_mean_absolute_error: 0.0640\n",
      "Epoch 38/50\n",
      "100/100 [==============================] - 4s 37ms/step - loss: 0.0016 - mean_absolute_error: 0.0301 - val_loss: 0.0090 - val_mean_absolute_error: 0.0653\n",
      "Epoch 39/50\n",
      "100/100 [==============================] - 4s 40ms/step - loss: 0.0017 - mean_absolute_error: 0.0301 - val_loss: 0.0087 - val_mean_absolute_error: 0.0647\n",
      "Epoch 40/50\n",
      "100/100 [==============================] - 5s 47ms/step - loss: 0.0016 - mean_absolute_error: 0.0297 - val_loss: 0.0087 - val_mean_absolute_error: 0.0643\n",
      "Epoch 41/50\n",
      "100/100 [==============================] - 4s 45ms/step - loss: 0.0016 - mean_absolute_error: 0.0295 - val_loss: 0.0085 - val_mean_absolute_error: 0.0644\n",
      "Epoch 42/50\n",
      "100/100 [==============================] - 4s 42ms/step - loss: 0.0016 - mean_absolute_error: 0.0298 - val_loss: 0.0087 - val_mean_absolute_error: 0.0648\n",
      "Epoch 43/50\n",
      "100/100 [==============================] - 4s 40ms/step - loss: 0.0016 - mean_absolute_error: 0.0292 - val_loss: 0.0089 - val_mean_absolute_error: 0.0652\n",
      "Epoch 44/50\n",
      "100/100 [==============================] - 4s 39ms/step - loss: 0.0015 - mean_absolute_error: 0.0293 - val_loss: 0.0092 - val_mean_absolute_error: 0.0659\n",
      "Epoch 45/50\n",
      "100/100 [==============================] - 4s 39ms/step - loss: 0.0015 - mean_absolute_error: 0.0295 - val_loss: 0.0087 - val_mean_absolute_error: 0.0640\n",
      "Epoch 46/50\n",
      "100/100 [==============================] - 4s 39ms/step - loss: 0.0016 - mean_absolute_error: 0.0295 - val_loss: 0.0086 - val_mean_absolute_error: 0.0648\n",
      "Epoch 47/50\n",
      "100/100 [==============================] - 4s 38ms/step - loss: 0.0016 - mean_absolute_error: 0.0291 - val_loss: 0.0090 - val_mean_absolute_error: 0.0657\n",
      "Epoch 48/50\n",
      "100/100 [==============================] - 4s 40ms/step - loss: 0.0016 - mean_absolute_error: 0.0294 - val_loss: 0.0086 - val_mean_absolute_error: 0.0646\n",
      "Epoch 49/50\n",
      "100/100 [==============================] - 4s 40ms/step - loss: 0.0015 - mean_absolute_error: 0.0293 - val_loss: 0.0086 - val_mean_absolute_error: 0.0644\n",
      "Epoch 50/50\n"
     ]
    },
    {
     "name": "stdout",
     "output_type": "stream",
     "text": [
      "100/100 [==============================] - 4s 39ms/step - loss: 0.0015 - mean_absolute_error: 0.0287 - val_loss: 0.0087 - val_mean_absolute_error: 0.0648\n",
      "Epoch 1/50\n",
      "100/100 [==============================] - 5s 43ms/step - loss: 0.0460 - mean_absolute_error: 0.1307 - val_loss: 0.0073 - val_mean_absolute_error: 0.0640\n",
      "Epoch 2/50\n",
      "100/100 [==============================] - 4s 40ms/step - loss: 0.0077 - mean_absolute_error: 0.0653 - val_loss: 0.0062 - val_mean_absolute_error: 0.0585\n",
      "Epoch 3/50\n",
      "100/100 [==============================] - 4s 39ms/step - loss: 0.0068 - mean_absolute_error: 0.0625 - val_loss: 0.0057 - val_mean_absolute_error: 0.0561\n",
      "Epoch 4/50\n",
      "100/100 [==============================] - 4s 39ms/step - loss: 0.0068 - mean_absolute_error: 0.0597 - val_loss: 0.0052 - val_mean_absolute_error: 0.0522\n",
      "Epoch 5/50\n",
      "100/100 [==============================] - 4s 40ms/step - loss: 0.0060 - mean_absolute_error: 0.0552 - val_loss: 0.0048 - val_mean_absolute_error: 0.0503\n",
      "Epoch 6/50\n",
      "100/100 [==============================] - 4s 39ms/step - loss: 0.0058 - mean_absolute_error: 0.0529 - val_loss: 0.0047 - val_mean_absolute_error: 0.0503\n",
      "Epoch 7/50\n",
      "100/100 [==============================] - 4s 38ms/step - loss: 0.0055 - mean_absolute_error: 0.0519 - val_loss: 0.0046 - val_mean_absolute_error: 0.0494\n",
      "Epoch 8/50\n",
      "100/100 [==============================] - 4s 40ms/step - loss: 0.0053 - mean_absolute_error: 0.0508 - val_loss: 0.0047 - val_mean_absolute_error: 0.0493\n",
      "Epoch 9/50\n",
      "100/100 [==============================] - 4s 40ms/step - loss: 0.0052 - mean_absolute_error: 0.0506 - val_loss: 0.0046 - val_mean_absolute_error: 0.0495\n",
      "Epoch 10/50\n",
      "100/100 [==============================] - 4s 39ms/step - loss: 0.0052 - mean_absolute_error: 0.0503 - val_loss: 0.0047 - val_mean_absolute_error: 0.0498\n",
      "Epoch 11/50\n",
      "100/100 [==============================] - 4s 39ms/step - loss: 0.0046 - mean_absolute_error: 0.0483 - val_loss: 0.0047 - val_mean_absolute_error: 0.0502\n",
      "Epoch 12/50\n",
      "100/100 [==============================] - 4s 40ms/step - loss: 0.0045 - mean_absolute_error: 0.0472 - val_loss: 0.0048 - val_mean_absolute_error: 0.0503\n",
      "Epoch 13/50\n",
      "100/100 [==============================] - 4s 41ms/step - loss: 0.0044 - mean_absolute_error: 0.0467 - val_loss: 0.0051 - val_mean_absolute_error: 0.0513\n",
      "Epoch 14/50\n",
      "100/100 [==============================] - 4s 39ms/step - loss: 0.0045 - mean_absolute_error: 0.0478 - val_loss: 0.0050 - val_mean_absolute_error: 0.0511\n",
      "Epoch 15/50\n",
      "100/100 [==============================] - 4s 39ms/step - loss: 0.0040 - mean_absolute_error: 0.0457 - val_loss: 0.0049 - val_mean_absolute_error: 0.0521\n",
      "Epoch 16/50\n",
      "100/100 [==============================] - 4s 40ms/step - loss: 0.0039 - mean_absolute_error: 0.0449 - val_loss: 0.0054 - val_mean_absolute_error: 0.0528\n",
      "Epoch 17/50\n",
      "100/100 [==============================] - 4s 40ms/step - loss: 0.0036 - mean_absolute_error: 0.0439 - val_loss: 0.0051 - val_mean_absolute_error: 0.0521\n",
      "Epoch 18/50\n",
      "100/100 [==============================] - 4s 40ms/step - loss: 0.0036 - mean_absolute_error: 0.0433 - val_loss: 0.0052 - val_mean_absolute_error: 0.0519\n",
      "Epoch 19/50\n",
      "100/100 [==============================] - 4s 42ms/step - loss: 0.0035 - mean_absolute_error: 0.0432 - val_loss: 0.0051 - val_mean_absolute_error: 0.0524\n",
      "Epoch 20/50\n",
      "100/100 [==============================] - 4s 43ms/step - loss: 0.0033 - mean_absolute_error: 0.0420 - val_loss: 0.0052 - val_mean_absolute_error: 0.0545\n",
      "Epoch 21/50\n",
      "100/100 [==============================] - 4s 42ms/step - loss: 0.0033 - mean_absolute_error: 0.0416 - val_loss: 0.0051 - val_mean_absolute_error: 0.0517\n",
      "Epoch 22/50\n",
      "100/100 [==============================] - 4s 41ms/step - loss: 0.0031 - mean_absolute_error: 0.0406 - val_loss: 0.0051 - val_mean_absolute_error: 0.0530\n",
      "Epoch 23/50\n",
      "100/100 [==============================] - 4s 42ms/step - loss: 0.0030 - mean_absolute_error: 0.0407 - val_loss: 0.0052 - val_mean_absolute_error: 0.0538\n",
      "Epoch 24/50\n",
      "100/100 [==============================] - 4s 43ms/step - loss: 0.0029 - mean_absolute_error: 0.0400 - val_loss: 0.0053 - val_mean_absolute_error: 0.0524\n",
      "Epoch 25/50\n",
      "100/100 [==============================] - 4s 41ms/step - loss: 0.0028 - mean_absolute_error: 0.0392 - val_loss: 0.0051 - val_mean_absolute_error: 0.0531\n",
      "Epoch 26/50\n",
      "100/100 [==============================] - 4s 42ms/step - loss: 0.0028 - mean_absolute_error: 0.0395 - val_loss: 0.0052 - val_mean_absolute_error: 0.0524\n",
      "Epoch 27/50\n",
      "100/100 [==============================] - 4s 42ms/step - loss: 0.0027 - mean_absolute_error: 0.0385 - val_loss: 0.0055 - val_mean_absolute_error: 0.0533\n",
      "Epoch 28/50\n",
      "100/100 [==============================] - 4s 42ms/step - loss: 0.0027 - mean_absolute_error: 0.0382 - val_loss: 0.0053 - val_mean_absolute_error: 0.0547\n",
      "Epoch 29/50\n",
      "100/100 [==============================] - 4s 40ms/step - loss: 0.0027 - mean_absolute_error: 0.0383 - val_loss: 0.0053 - val_mean_absolute_error: 0.0539\n",
      "Epoch 30/50\n",
      "100/100 [==============================] - 4s 42ms/step - loss: 0.0026 - mean_absolute_error: 0.0380 - val_loss: 0.0054 - val_mean_absolute_error: 0.0546\n",
      "Epoch 31/50\n",
      "100/100 [==============================] - 4s 42ms/step - loss: 0.0026 - mean_absolute_error: 0.0377 - val_loss: 0.0053 - val_mean_absolute_error: 0.0532\n",
      "Epoch 32/50\n",
      "100/100 [==============================] - 4s 42ms/step - loss: 0.0025 - mean_absolute_error: 0.0371 - val_loss: 0.0053 - val_mean_absolute_error: 0.0541\n",
      "Epoch 33/50\n",
      "100/100 [==============================] - 4s 42ms/step - loss: 0.0025 - mean_absolute_error: 0.0375 - val_loss: 0.0056 - val_mean_absolute_error: 0.0539\n",
      "Epoch 34/50\n",
      "100/100 [==============================] - 4s 40ms/step - loss: 0.0024 - mean_absolute_error: 0.0364 - val_loss: 0.0056 - val_mean_absolute_error: 0.0538\n",
      "Epoch 35/50\n",
      "100/100 [==============================] - 5s 49ms/step - loss: 0.0025 - mean_absolute_error: 0.0367 - val_loss: 0.0054 - val_mean_absolute_error: 0.0539\n",
      "Epoch 36/50\n",
      "100/100 [==============================] - 4s 44ms/step - loss: 0.0023 - mean_absolute_error: 0.0354 - val_loss: 0.0053 - val_mean_absolute_error: 0.0542\n",
      "Epoch 37/50\n",
      "100/100 [==============================] - 4s 41ms/step - loss: 0.0022 - mean_absolute_error: 0.0351 - val_loss: 0.0053 - val_mean_absolute_error: 0.0542\n",
      "Epoch 38/50\n",
      "100/100 [==============================] - 4s 42ms/step - loss: 0.0023 - mean_absolute_error: 0.0359 - val_loss: 0.0054 - val_mean_absolute_error: 0.0548\n",
      "Epoch 39/50\n",
      "100/100 [==============================] - 4s 42ms/step - loss: 0.0023 - mean_absolute_error: 0.0354 - val_loss: 0.0053 - val_mean_absolute_error: 0.0536\n",
      "Epoch 40/50\n",
      "100/100 [==============================] - 4s 43ms/step - loss: 0.0023 - mean_absolute_error: 0.0354 - val_loss: 0.0055 - val_mean_absolute_error: 0.0541\n",
      "Epoch 41/50\n",
      "100/100 [==============================] - 4s 42ms/step - loss: 0.0021 - mean_absolute_error: 0.0342 - val_loss: 0.0054 - val_mean_absolute_error: 0.0543\n",
      "Epoch 42/50\n",
      "100/100 [==============================] - 4s 41ms/step - loss: 0.0021 - mean_absolute_error: 0.0344 - val_loss: 0.0054 - val_mean_absolute_error: 0.0541\n",
      "Epoch 43/50\n",
      "100/100 [==============================] - 4s 39ms/step - loss: 0.0022 - mean_absolute_error: 0.0350 - val_loss: 0.0053 - val_mean_absolute_error: 0.0540\n",
      "Epoch 44/50\n",
      "100/100 [==============================] - 5s 48ms/step - loss: 0.0021 - mean_absolute_error: 0.0343 - val_loss: 0.0054 - val_mean_absolute_error: 0.0541\n",
      "Epoch 45/50\n",
      "100/100 [==============================] - 5s 47ms/step - loss: 0.0021 - mean_absolute_error: 0.0344 - val_loss: 0.0054 - val_mean_absolute_error: 0.0538\n",
      "Epoch 46/50\n",
      "100/100 [==============================] - 4s 43ms/step - loss: 0.0021 - mean_absolute_error: 0.0344 - val_loss: 0.0053 - val_mean_absolute_error: 0.0533\n",
      "Epoch 47/50\n",
      "100/100 [==============================] - 4s 40ms/step - loss: 0.0022 - mean_absolute_error: 0.0346 - val_loss: 0.0054 - val_mean_absolute_error: 0.0537\n",
      "Epoch 48/50\n",
      "100/100 [==============================] - 5s 45ms/step - loss: 0.0021 - mean_absolute_error: 0.0344 - val_loss: 0.0053 - val_mean_absolute_error: 0.0539\n",
      "Epoch 49/50\n"
     ]
    },
    {
     "name": "stdout",
     "output_type": "stream",
     "text": [
      "100/100 [==============================] - 4s 44ms/step - loss: 0.0021 - mean_absolute_error: 0.0341 - val_loss: 0.0052 - val_mean_absolute_error: 0.0539\n",
      "Epoch 50/50\n",
      "100/100 [==============================] - 4s 41ms/step - loss: 0.0021 - mean_absolute_error: 0.0339 - val_loss: 0.0051 - val_mean_absolute_error: 0.0535\n",
      "Epoch 1/50\n",
      "100/100 [==============================] - 5s 44ms/step - loss: 0.0295 - mean_absolute_error: 0.1180 - val_loss: 0.0055 - val_mean_absolute_error: 0.0555\n",
      "Epoch 2/50\n",
      "100/100 [==============================] - 4s 41ms/step - loss: 0.0074 - mean_absolute_error: 0.0617 - val_loss: 0.0047 - val_mean_absolute_error: 0.0510\n",
      "Epoch 3/50\n",
      "100/100 [==============================] - 4s 39ms/step - loss: 0.0065 - mean_absolute_error: 0.0585 - val_loss: 0.0044 - val_mean_absolute_error: 0.0491\n",
      "Epoch 4/50\n",
      "100/100 [==============================] - 4s 40ms/step - loss: 0.0057 - mean_absolute_error: 0.0536 - val_loss: 0.0043 - val_mean_absolute_error: 0.0472\n",
      "Epoch 5/50\n",
      "100/100 [==============================] - 4s 43ms/step - loss: 0.0056 - mean_absolute_error: 0.0528 - val_loss: 0.0044 - val_mean_absolute_error: 0.0478\n",
      "Epoch 6/50\n",
      "100/100 [==============================] - 5s 47ms/step - loss: 0.0052 - mean_absolute_error: 0.0513 - val_loss: 0.0045 - val_mean_absolute_error: 0.0489\n",
      "Epoch 7/50\n",
      "100/100 [==============================] - 5s 46ms/step - loss: 0.0047 - mean_absolute_error: 0.0490 - val_loss: 0.0046 - val_mean_absolute_error: 0.0497\n",
      "Epoch 8/50\n",
      "100/100 [==============================] - 4s 43ms/step - loss: 0.0045 - mean_absolute_error: 0.0482 - val_loss: 0.0047 - val_mean_absolute_error: 0.0499\n",
      "Epoch 9/50\n",
      "100/100 [==============================] - 4s 44ms/step - loss: 0.0046 - mean_absolute_error: 0.0481 - val_loss: 0.0049 - val_mean_absolute_error: 0.0514\n",
      "Epoch 10/50\n",
      "100/100 [==============================] - 4s 40ms/step - loss: 0.0041 - mean_absolute_error: 0.0457 - val_loss: 0.0049 - val_mean_absolute_error: 0.0515\n",
      "Epoch 11/50\n",
      "100/100 [==============================] - 4s 43ms/step - loss: 0.0038 - mean_absolute_error: 0.0442 - val_loss: 0.0051 - val_mean_absolute_error: 0.0520\n",
      "Epoch 12/50\n",
      "100/100 [==============================] - 5s 46ms/step - loss: 0.0037 - mean_absolute_error: 0.0442 - val_loss: 0.0053 - val_mean_absolute_error: 0.0537\n",
      "Epoch 13/50\n",
      "100/100 [==============================] - 5s 45ms/step - loss: 0.0035 - mean_absolute_error: 0.0434 - val_loss: 0.0054 - val_mean_absolute_error: 0.0543\n",
      "Epoch 14/50\n",
      "100/100 [==============================] - 5s 51ms/step - loss: 0.0033 - mean_absolute_error: 0.0419 - val_loss: 0.0052 - val_mean_absolute_error: 0.0534\n",
      "Epoch 15/50\n",
      "100/100 [==============================] - 4s 44ms/step - loss: 0.0031 - mean_absolute_error: 0.0406 - val_loss: 0.0052 - val_mean_absolute_error: 0.0525\n",
      "Epoch 16/50\n",
      "100/100 [==============================] - 5s 49ms/step - loss: 0.0030 - mean_absolute_error: 0.0401 - val_loss: 0.0054 - val_mean_absolute_error: 0.0544\n",
      "Epoch 17/50\n",
      "100/100 [==============================] - 5s 46ms/step - loss: 0.0029 - mean_absolute_error: 0.0399 - val_loss: 0.0056 - val_mean_absolute_error: 0.0564\n",
      "Epoch 18/50\n",
      "100/100 [==============================] - 4s 43ms/step - loss: 0.0029 - mean_absolute_error: 0.0397 - val_loss: 0.0055 - val_mean_absolute_error: 0.0548\n",
      "Epoch 19/50\n",
      "100/100 [==============================] - 4s 42ms/step - loss: 0.0027 - mean_absolute_error: 0.0383 - val_loss: 0.0054 - val_mean_absolute_error: 0.0554\n",
      "Epoch 20/50\n",
      "100/100 [==============================] - 5s 48ms/step - loss: 0.0027 - mean_absolute_error: 0.0384 - val_loss: 0.0056 - val_mean_absolute_error: 0.0559\n",
      "Epoch 21/50\n",
      "100/100 [==============================] - 4s 44ms/step - loss: 0.0026 - mean_absolute_error: 0.0377 - val_loss: 0.0053 - val_mean_absolute_error: 0.0542\n",
      "Epoch 22/50\n",
      "100/100 [==============================] - 4s 41ms/step - loss: 0.0025 - mean_absolute_error: 0.0374 - val_loss: 0.0053 - val_mean_absolute_error: 0.0544\n",
      "Epoch 23/50\n",
      "100/100 [==============================] - 4s 39ms/step - loss: 0.0026 - mean_absolute_error: 0.0372 - val_loss: 0.0053 - val_mean_absolute_error: 0.0543\n",
      "Epoch 24/50\n",
      "100/100 [==============================] - 4s 40ms/step - loss: 0.0025 - mean_absolute_error: 0.0370 - val_loss: 0.0054 - val_mean_absolute_error: 0.0549\n",
      "Epoch 25/50\n",
      "100/100 [==============================] - 5s 52ms/step - loss: 0.0022 - mean_absolute_error: 0.0355 - val_loss: 0.0057 - val_mean_absolute_error: 0.0563\n",
      "Epoch 26/50\n",
      "100/100 [==============================] - 5s 48ms/step - loss: 0.0023 - mean_absolute_error: 0.0358 - val_loss: 0.0053 - val_mean_absolute_error: 0.0534\n",
      "Epoch 27/50\n",
      "100/100 [==============================] - 5s 52ms/step - loss: 0.0022 - mean_absolute_error: 0.0353 - val_loss: 0.0054 - val_mean_absolute_error: 0.0546\n",
      "Epoch 28/50\n",
      "100/100 [==============================] - 4s 44ms/step - loss: 0.0023 - mean_absolute_error: 0.0351 - val_loss: 0.0053 - val_mean_absolute_error: 0.0535\n",
      "Epoch 29/50\n",
      "100/100 [==============================] - 4s 43ms/step - loss: 0.0023 - mean_absolute_error: 0.0353 - val_loss: 0.0053 - val_mean_absolute_error: 0.0532\n",
      "Epoch 30/50\n",
      "100/100 [==============================] - 5s 48ms/step - loss: 0.0022 - mean_absolute_error: 0.0348 - val_loss: 0.0055 - val_mean_absolute_error: 0.0545\n",
      "Epoch 31/50\n",
      "100/100 [==============================] - 4s 42ms/step - loss: 0.0020 - mean_absolute_error: 0.0336 - val_loss: 0.0055 - val_mean_absolute_error: 0.0551\n",
      "Epoch 32/50\n",
      "100/100 [==============================] - 5s 51ms/step - loss: 0.0021 - mean_absolute_error: 0.0340 - val_loss: 0.0055 - val_mean_absolute_error: 0.0552\n",
      "Epoch 33/50\n",
      "100/100 [==============================] - 5s 48ms/step - loss: 0.0022 - mean_absolute_error: 0.0343 - val_loss: 0.0055 - val_mean_absolute_error: 0.0553\n",
      "Epoch 34/50\n",
      "100/100 [==============================] - 5s 47ms/step - loss: 0.0020 - mean_absolute_error: 0.0336 - val_loss: 0.0051 - val_mean_absolute_error: 0.0526\n",
      "Epoch 35/50\n",
      "100/100 [==============================] - 4s 43ms/step - loss: 0.0020 - mean_absolute_error: 0.0328 - val_loss: 0.0054 - val_mean_absolute_error: 0.0543\n",
      "Epoch 36/50\n",
      "100/100 [==============================] - 4s 41ms/step - loss: 0.0021 - mean_absolute_error: 0.0338 - val_loss: 0.0055 - val_mean_absolute_error: 0.0549\n",
      "Epoch 37/50\n",
      "100/100 [==============================] - 4s 44ms/step - loss: 0.0020 - mean_absolute_error: 0.0332 - val_loss: 0.0056 - val_mean_absolute_error: 0.0555\n",
      "Epoch 38/50\n",
      "100/100 [==============================] - 4s 44ms/step - loss: 0.0020 - mean_absolute_error: 0.0329 - val_loss: 0.0055 - val_mean_absolute_error: 0.0549\n",
      "Epoch 39/50\n",
      "100/100 [==============================] - 4s 43ms/step - loss: 0.0020 - mean_absolute_error: 0.0329 - val_loss: 0.0052 - val_mean_absolute_error: 0.0525\n",
      "Epoch 40/50\n",
      "100/100 [==============================] - 4s 43ms/step - loss: 0.0020 - mean_absolute_error: 0.0330 - val_loss: 0.0054 - val_mean_absolute_error: 0.0543\n",
      "Epoch 41/50\n",
      "100/100 [==============================] - 4s 41ms/step - loss: 0.0019 - mean_absolute_error: 0.0326 - val_loss: 0.0055 - val_mean_absolute_error: 0.0556\n",
      "Epoch 42/50\n",
      "100/100 [==============================] - 4s 40ms/step - loss: 0.0019 - mean_absolute_error: 0.0324 - val_loss: 0.0056 - val_mean_absolute_error: 0.0556\n",
      "Epoch 43/50\n",
      "100/100 [==============================] - 4s 41ms/step - loss: 0.0019 - mean_absolute_error: 0.0324 - val_loss: 0.0054 - val_mean_absolute_error: 0.0543\n",
      "Epoch 44/50\n",
      "100/100 [==============================] - 4s 42ms/step - loss: 0.0018 - mean_absolute_error: 0.0316 - val_loss: 0.0053 - val_mean_absolute_error: 0.0530\n",
      "Epoch 45/50\n",
      "100/100 [==============================] - 4s 42ms/step - loss: 0.0020 - mean_absolute_error: 0.0330 - val_loss: 0.0053 - val_mean_absolute_error: 0.0536\n",
      "Epoch 46/50\n",
      "100/100 [==============================] - 4s 41ms/step - loss: 0.0019 - mean_absolute_error: 0.0321 - val_loss: 0.0051 - val_mean_absolute_error: 0.0525\n",
      "Epoch 47/50\n",
      "100/100 [==============================] - 4s 43ms/step - loss: 0.0018 - mean_absolute_error: 0.0316 - val_loss: 0.0053 - val_mean_absolute_error: 0.0547\n",
      "Epoch 48/50\n"
     ]
    },
    {
     "name": "stdout",
     "output_type": "stream",
     "text": [
      "100/100 [==============================] - 4s 42ms/step - loss: 0.0018 - mean_absolute_error: 0.0313 - val_loss: 0.0052 - val_mean_absolute_error: 0.0529\n",
      "Epoch 49/50\n",
      "100/100 [==============================] - 4s 43ms/step - loss: 0.0018 - mean_absolute_error: 0.0317 - val_loss: 0.0052 - val_mean_absolute_error: 0.0526\n",
      "Epoch 50/50\n",
      "100/100 [==============================] - 4s 41ms/step - loss: 0.0018 - mean_absolute_error: 0.0315 - val_loss: 0.0051 - val_mean_absolute_error: 0.0525\n",
      "Epoch 1/50\n",
      "100/100 [==============================] - 5s 46ms/step - loss: 0.0414 - mean_absolute_error: 0.1239 - val_loss: 0.0072 - val_mean_absolute_error: 0.0647\n",
      "Epoch 2/50\n",
      "100/100 [==============================] - 4s 44ms/step - loss: 0.0076 - mean_absolute_error: 0.0661 - val_loss: 0.0068 - val_mean_absolute_error: 0.0640\n",
      "Epoch 3/50\n",
      "100/100 [==============================] - 4s 42ms/step - loss: 0.0067 - mean_absolute_error: 0.0625 - val_loss: 0.0064 - val_mean_absolute_error: 0.0610\n",
      "Epoch 4/50\n",
      "100/100 [==============================] - 4s 42ms/step - loss: 0.0063 - mean_absolute_error: 0.0588 - val_loss: 0.0057 - val_mean_absolute_error: 0.0547\n",
      "Epoch 5/50\n",
      "100/100 [==============================] - 4s 45ms/step - loss: 0.0056 - mean_absolute_error: 0.0546 - val_loss: 0.0056 - val_mean_absolute_error: 0.0535\n",
      "Epoch 6/50\n",
      "100/100 [==============================] - 4s 41ms/step - loss: 0.0056 - mean_absolute_error: 0.0534 - val_loss: 0.0055 - val_mean_absolute_error: 0.0524\n",
      "Epoch 7/50\n",
      "100/100 [==============================] - 4s 40ms/step - loss: 0.0053 - mean_absolute_error: 0.0511 - val_loss: 0.0056 - val_mean_absolute_error: 0.0534\n",
      "Epoch 8/50\n",
      "100/100 [==============================] - 5s 47ms/step - loss: 0.0052 - mean_absolute_error: 0.0509 - val_loss: 0.0055 - val_mean_absolute_error: 0.0526\n",
      "Epoch 9/50\n",
      "100/100 [==============================] - 4s 43ms/step - loss: 0.0049 - mean_absolute_error: 0.0497 - val_loss: 0.0055 - val_mean_absolute_error: 0.0535\n",
      "Epoch 10/50\n",
      "100/100 [==============================] - 4s 45ms/step - loss: 0.0050 - mean_absolute_error: 0.0499 - val_loss: 0.0056 - val_mean_absolute_error: 0.0539\n",
      "Epoch 11/50\n",
      "100/100 [==============================] - 4s 44ms/step - loss: 0.0046 - mean_absolute_error: 0.0487 - val_loss: 0.0055 - val_mean_absolute_error: 0.0528\n",
      "Epoch 12/50\n",
      "100/100 [==============================] - 4s 45ms/step - loss: 0.0045 - mean_absolute_error: 0.0480 - val_loss: 0.0055 - val_mean_absolute_error: 0.0530\n",
      "Epoch 13/50\n",
      "100/100 [==============================] - 4s 42ms/step - loss: 0.0042 - mean_absolute_error: 0.0467 - val_loss: 0.0056 - val_mean_absolute_error: 0.0533\n",
      "Epoch 14/50\n",
      "100/100 [==============================] - 4s 40ms/step - loss: 0.0041 - mean_absolute_error: 0.0460 - val_loss: 0.0056 - val_mean_absolute_error: 0.0524\n",
      "Epoch 15/50\n",
      "100/100 [==============================] - 4s 42ms/step - loss: 0.0040 - mean_absolute_error: 0.0460 - val_loss: 0.0058 - val_mean_absolute_error: 0.0533\n",
      "Epoch 16/50\n",
      "100/100 [==============================] - 4s 41ms/step - loss: 0.0036 - mean_absolute_error: 0.0439 - val_loss: 0.0059 - val_mean_absolute_error: 0.0541\n",
      "Epoch 17/50\n",
      "100/100 [==============================] - 4s 42ms/step - loss: 0.0036 - mean_absolute_error: 0.0440 - val_loss: 0.0060 - val_mean_absolute_error: 0.0540\n",
      "Epoch 18/50\n",
      "100/100 [==============================] - 4s 42ms/step - loss: 0.0034 - mean_absolute_error: 0.0424 - val_loss: 0.0060 - val_mean_absolute_error: 0.0542\n",
      "Epoch 19/50\n",
      "100/100 [==============================] - 4s 40ms/step - loss: 0.0031 - mean_absolute_error: 0.0412 - val_loss: 0.0060 - val_mean_absolute_error: 0.0541\n",
      "Epoch 20/50\n",
      "100/100 [==============================] - 4s 40ms/step - loss: 0.0031 - mean_absolute_error: 0.0413 - val_loss: 0.0062 - val_mean_absolute_error: 0.0557\n",
      "Epoch 21/50\n",
      "100/100 [==============================] - 4s 42ms/step - loss: 0.0032 - mean_absolute_error: 0.0410 - val_loss: 0.0063 - val_mean_absolute_error: 0.0562\n",
      "Epoch 22/50\n",
      "100/100 [==============================] - 4s 43ms/step - loss: 0.0029 - mean_absolute_error: 0.0400 - val_loss: 0.0063 - val_mean_absolute_error: 0.0560\n",
      "Epoch 23/50\n",
      "100/100 [==============================] - 4s 42ms/step - loss: 0.0028 - mean_absolute_error: 0.0391 - val_loss: 0.0063 - val_mean_absolute_error: 0.0561\n",
      "Epoch 24/50\n",
      "100/100 [==============================] - 5s 45ms/step - loss: 0.0027 - mean_absolute_error: 0.0386 - val_loss: 0.0064 - val_mean_absolute_error: 0.0566\n",
      "Epoch 25/50\n",
      "100/100 [==============================] - 4s 42ms/step - loss: 0.0027 - mean_absolute_error: 0.0382 - val_loss: 0.0065 - val_mean_absolute_error: 0.0568\n",
      "Epoch 26/50\n",
      "100/100 [==============================] - 4s 43ms/step - loss: 0.0027 - mean_absolute_error: 0.0387 - val_loss: 0.0066 - val_mean_absolute_error: 0.0581\n",
      "Epoch 27/50\n",
      "100/100 [==============================] - 4s 41ms/step - loss: 0.0026 - mean_absolute_error: 0.0376 - val_loss: 0.0064 - val_mean_absolute_error: 0.0569\n",
      "Epoch 28/50\n",
      "100/100 [==============================] - 4s 41ms/step - loss: 0.0024 - mean_absolute_error: 0.0367 - val_loss: 0.0065 - val_mean_absolute_error: 0.0573\n",
      "Epoch 29/50\n",
      "100/100 [==============================] - 4s 40ms/step - loss: 0.0025 - mean_absolute_error: 0.0372 - val_loss: 0.0065 - val_mean_absolute_error: 0.0577\n",
      "Epoch 30/50\n",
      "100/100 [==============================] - 4s 41ms/step - loss: 0.0025 - mean_absolute_error: 0.0368 - val_loss: 0.0065 - val_mean_absolute_error: 0.0578\n",
      "Epoch 31/50\n",
      "100/100 [==============================] - 4s 42ms/step - loss: 0.0025 - mean_absolute_error: 0.0365 - val_loss: 0.0066 - val_mean_absolute_error: 0.0579\n",
      "Epoch 32/50\n",
      "100/100 [==============================] - 4s 41ms/step - loss: 0.0024 - mean_absolute_error: 0.0363 - val_loss: 0.0067 - val_mean_absolute_error: 0.0588\n",
      "Epoch 33/50\n",
      "100/100 [==============================] - 4s 42ms/step - loss: 0.0023 - mean_absolute_error: 0.0356 - val_loss: 0.0065 - val_mean_absolute_error: 0.0574\n",
      "Epoch 34/50\n",
      "100/100 [==============================] - 4s 41ms/step - loss: 0.0024 - mean_absolute_error: 0.0358 - val_loss: 0.0066 - val_mean_absolute_error: 0.0582\n",
      "Epoch 35/50\n",
      "100/100 [==============================] - 4s 42ms/step - loss: 0.0023 - mean_absolute_error: 0.0353 - val_loss: 0.0065 - val_mean_absolute_error: 0.0581\n",
      "Epoch 36/50\n",
      "100/100 [==============================] - 4s 42ms/step - loss: 0.0022 - mean_absolute_error: 0.0350 - val_loss: 0.0065 - val_mean_absolute_error: 0.0574\n",
      "Epoch 37/50\n",
      "100/100 [==============================] - 4s 41ms/step - loss: 0.0022 - mean_absolute_error: 0.0349 - val_loss: 0.0065 - val_mean_absolute_error: 0.0576\n",
      "Epoch 38/50\n",
      "100/100 [==============================] - 4s 38ms/step - loss: 0.0022 - mean_absolute_error: 0.0346 - val_loss: 0.0065 - val_mean_absolute_error: 0.0579\n",
      "Epoch 39/50\n",
      "100/100 [==============================] - 4s 41ms/step - loss: 0.0022 - mean_absolute_error: 0.0345 - val_loss: 0.0067 - val_mean_absolute_error: 0.0593\n",
      "Epoch 40/50\n",
      "100/100 [==============================] - 4s 42ms/step - loss: 0.0022 - mean_absolute_error: 0.0347 - val_loss: 0.0065 - val_mean_absolute_error: 0.0582\n",
      "Epoch 41/50\n",
      "100/100 [==============================] - 4s 41ms/step - loss: 0.0021 - mean_absolute_error: 0.0339 - val_loss: 0.0066 - val_mean_absolute_error: 0.0587\n",
      "Epoch 42/50\n",
      "100/100 [==============================] - 4s 41ms/step - loss: 0.0022 - mean_absolute_error: 0.0346 - val_loss: 0.0065 - val_mean_absolute_error: 0.0581\n",
      "Epoch 43/50\n",
      "100/100 [==============================] - 4s 41ms/step - loss: 0.0020 - mean_absolute_error: 0.0333 - val_loss: 0.0066 - val_mean_absolute_error: 0.0581\n",
      "Epoch 44/50\n",
      "100/100 [==============================] - 4s 40ms/step - loss: 0.0020 - mean_absolute_error: 0.0335 - val_loss: 0.0064 - val_mean_absolute_error: 0.0571\n",
      "Epoch 45/50\n",
      "100/100 [==============================] - 5s 50ms/step - loss: 0.0018 - mean_absolute_error: 0.0321 - val_loss: 0.0065 - val_mean_absolute_error: 0.0579\n",
      "Epoch 46/50\n",
      "100/100 [==============================] - 5s 45ms/step - loss: 0.0019 - mean_absolute_error: 0.0326 - val_loss: 0.0065 - val_mean_absolute_error: 0.0572\n",
      "Epoch 47/50\n"
     ]
    },
    {
     "name": "stdout",
     "output_type": "stream",
     "text": [
      "100/100 [==============================] - 4s 44ms/step - loss: 0.0019 - mean_absolute_error: 0.0323 - val_loss: 0.0064 - val_mean_absolute_error: 0.0569\n",
      "Epoch 48/50\n",
      "100/100 [==============================] - 4s 40ms/step - loss: 0.0018 - mean_absolute_error: 0.0323 - val_loss: 0.0065 - val_mean_absolute_error: 0.0569\n",
      "Epoch 49/50\n",
      "100/100 [==============================] - 4s 39ms/step - loss: 0.0018 - mean_absolute_error: 0.0316 - val_loss: 0.0066 - val_mean_absolute_error: 0.0573\n",
      "Epoch 50/50\n",
      "100/100 [==============================] - 4s 40ms/step - loss: 0.0017 - mean_absolute_error: 0.0310 - val_loss: 0.0064 - val_mean_absolute_error: 0.0567\n",
      "Epoch 1/50\n",
      "100/100 [==============================] - 5s 38ms/step - loss: 0.0116 - mean_absolute_error: 0.0749 - val_loss: 0.0056 - val_mean_absolute_error: 0.0526\n",
      "Epoch 2/50\n",
      "100/100 [==============================] - 4s 39ms/step - loss: 0.0056 - mean_absolute_error: 0.0532 - val_loss: 0.0054 - val_mean_absolute_error: 0.0505\n",
      "Epoch 3/50\n",
      "100/100 [==============================] - 4s 42ms/step - loss: 0.0054 - mean_absolute_error: 0.0517 - val_loss: 0.0054 - val_mean_absolute_error: 0.0509\n",
      "Epoch 4/50\n",
      "100/100 [==============================] - 4s 39ms/step - loss: 0.0051 - mean_absolute_error: 0.0501 - val_loss: 0.0053 - val_mean_absolute_error: 0.0504\n",
      "Epoch 5/50\n",
      "100/100 [==============================] - 4s 39ms/step - loss: 0.0047 - mean_absolute_error: 0.0481 - val_loss: 0.0053 - val_mean_absolute_error: 0.0501\n",
      "Epoch 6/50\n",
      "100/100 [==============================] - 4s 41ms/step - loss: 0.0044 - mean_absolute_error: 0.0469 - val_loss: 0.0054 - val_mean_absolute_error: 0.0503\n",
      "Epoch 7/50\n",
      "100/100 [==============================] - 4s 39ms/step - loss: 0.0041 - mean_absolute_error: 0.0452 - val_loss: 0.0054 - val_mean_absolute_error: 0.0504\n",
      "Epoch 8/50\n",
      "100/100 [==============================] - 4s 38ms/step - loss: 0.0040 - mean_absolute_error: 0.0447 - val_loss: 0.0055 - val_mean_absolute_error: 0.0505\n",
      "Epoch 9/50\n",
      "100/100 [==============================] - 4s 41ms/step - loss: 0.0035 - mean_absolute_error: 0.0426 - val_loss: 0.0057 - val_mean_absolute_error: 0.0509\n",
      "Epoch 10/50\n",
      "100/100 [==============================] - 4s 41ms/step - loss: 0.0034 - mean_absolute_error: 0.0422 - val_loss: 0.0056 - val_mean_absolute_error: 0.0513\n",
      "Epoch 11/50\n",
      "100/100 [==============================] - 4s 40ms/step - loss: 0.0030 - mean_absolute_error: 0.0398 - val_loss: 0.0057 - val_mean_absolute_error: 0.0516\n",
      "Epoch 12/50\n",
      "100/100 [==============================] - 4s 40ms/step - loss: 0.0031 - mean_absolute_error: 0.0406 - val_loss: 0.0058 - val_mean_absolute_error: 0.0518\n",
      "Epoch 13/50\n",
      "100/100 [==============================] - 4s 40ms/step - loss: 0.0028 - mean_absolute_error: 0.0389 - val_loss: 0.0059 - val_mean_absolute_error: 0.0528\n",
      "Epoch 14/50\n",
      "100/100 [==============================] - 4s 39ms/step - loss: 0.0027 - mean_absolute_error: 0.0382 - val_loss: 0.0062 - val_mean_absolute_error: 0.0532\n",
      "Epoch 15/50\n",
      "100/100 [==============================] - 4s 38ms/step - loss: 0.0026 - mean_absolute_error: 0.0374 - val_loss: 0.0060 - val_mean_absolute_error: 0.0528\n",
      "Epoch 16/50\n",
      "100/100 [==============================] - 4s 41ms/step - loss: 0.0025 - mean_absolute_error: 0.0364 - val_loss: 0.0059 - val_mean_absolute_error: 0.0528\n",
      "Epoch 17/50\n",
      "100/100 [==============================] - 4s 40ms/step - loss: 0.0024 - mean_absolute_error: 0.0360 - val_loss: 0.0061 - val_mean_absolute_error: 0.0535\n",
      "Epoch 18/50\n",
      "100/100 [==============================] - 4s 41ms/step - loss: 0.0023 - mean_absolute_error: 0.0358 - val_loss: 0.0060 - val_mean_absolute_error: 0.0533\n",
      "Epoch 19/50\n",
      "100/100 [==============================] - 4s 40ms/step - loss: 0.0023 - mean_absolute_error: 0.0352 - val_loss: 0.0061 - val_mean_absolute_error: 0.0541\n",
      "Epoch 20/50\n",
      "100/100 [==============================] - 4s 40ms/step - loss: 0.0022 - mean_absolute_error: 0.0345 - val_loss: 0.0061 - val_mean_absolute_error: 0.0540\n",
      "Epoch 21/50\n",
      "100/100 [==============================] - 4s 40ms/step - loss: 0.0022 - mean_absolute_error: 0.0343 - val_loss: 0.0061 - val_mean_absolute_error: 0.0540\n",
      "Epoch 22/50\n",
      "100/100 [==============================] - 4s 39ms/step - loss: 0.0021 - mean_absolute_error: 0.0341 - val_loss: 0.0060 - val_mean_absolute_error: 0.0534\n",
      "Epoch 23/50\n",
      "100/100 [==============================] - 4s 39ms/step - loss: 0.0021 - mean_absolute_error: 0.0339 - val_loss: 0.0062 - val_mean_absolute_error: 0.0545\n",
      "Epoch 24/50\n",
      "100/100 [==============================] - 4s 40ms/step - loss: 0.0021 - mean_absolute_error: 0.0334 - val_loss: 0.0061 - val_mean_absolute_error: 0.0545\n",
      "Epoch 25/50\n",
      "100/100 [==============================] - 4s 39ms/step - loss: 0.0020 - mean_absolute_error: 0.0328 - val_loss: 0.0060 - val_mean_absolute_error: 0.0534\n",
      "Epoch 26/50\n",
      "100/100 [==============================] - 4s 41ms/step - loss: 0.0020 - mean_absolute_error: 0.0329 - val_loss: 0.0060 - val_mean_absolute_error: 0.0541\n",
      "Epoch 27/50\n",
      "100/100 [==============================] - 4s 38ms/step - loss: 0.0020 - mean_absolute_error: 0.0325 - val_loss: 0.0063 - val_mean_absolute_error: 0.0552\n",
      "Epoch 28/50\n",
      "100/100 [==============================] - 4s 39ms/step - loss: 0.0019 - mean_absolute_error: 0.0322 - val_loss: 0.0061 - val_mean_absolute_error: 0.0543\n",
      "Epoch 29/50\n",
      "100/100 [==============================] - 4s 40ms/step - loss: 0.0019 - mean_absolute_error: 0.0322 - val_loss: 0.0059 - val_mean_absolute_error: 0.0540\n",
      "Epoch 30/50\n",
      "100/100 [==============================] - 4s 40ms/step - loss: 0.0019 - mean_absolute_error: 0.0323 - val_loss: 0.0062 - val_mean_absolute_error: 0.0552\n",
      "Epoch 31/50\n",
      "100/100 [==============================] - 4s 40ms/step - loss: 0.0019 - mean_absolute_error: 0.0319 - val_loss: 0.0061 - val_mean_absolute_error: 0.0549\n",
      "Epoch 32/50\n",
      "100/100 [==============================] - 4s 39ms/step - loss: 0.0019 - mean_absolute_error: 0.0321 - val_loss: 0.0062 - val_mean_absolute_error: 0.0551\n",
      "Epoch 33/50\n",
      "100/100 [==============================] - 4s 38ms/step - loss: 0.0018 - mean_absolute_error: 0.0312 - val_loss: 0.0061 - val_mean_absolute_error: 0.0545\n",
      "Epoch 34/50\n",
      "100/100 [==============================] - 4s 39ms/step - loss: 0.0017 - mean_absolute_error: 0.0304 - val_loss: 0.0061 - val_mean_absolute_error: 0.0545\n",
      "Epoch 35/50\n",
      "100/100 [==============================] - 4s 40ms/step - loss: 0.0018 - mean_absolute_error: 0.0314 - val_loss: 0.0062 - val_mean_absolute_error: 0.0551\n",
      "Epoch 36/50\n",
      "100/100 [==============================] - 4s 39ms/step - loss: 0.0017 - mean_absolute_error: 0.0302 - val_loss: 0.0063 - val_mean_absolute_error: 0.0557\n",
      "Epoch 37/50\n",
      "100/100 [==============================] - 4s 40ms/step - loss: 0.0017 - mean_absolute_error: 0.0301 - val_loss: 0.0061 - val_mean_absolute_error: 0.0549\n",
      "Epoch 38/50\n",
      "100/100 [==============================] - 4s 40ms/step - loss: 0.0017 - mean_absolute_error: 0.0305 - val_loss: 0.0062 - val_mean_absolute_error: 0.0552\n",
      "Epoch 39/50\n",
      "100/100 [==============================] - 4s 40ms/step - loss: 0.0016 - mean_absolute_error: 0.0292 - val_loss: 0.0062 - val_mean_absolute_error: 0.0558\n",
      "Epoch 40/50\n",
      "100/100 [==============================] - 4s 40ms/step - loss: 0.0016 - mean_absolute_error: 0.0300 - val_loss: 0.0061 - val_mean_absolute_error: 0.0544\n",
      "Epoch 41/50\n",
      "100/100 [==============================] - 4s 42ms/step - loss: 0.0015 - mean_absolute_error: 0.0290 - val_loss: 0.0062 - val_mean_absolute_error: 0.0550\n",
      "Epoch 42/50\n",
      "100/100 [==============================] - 4s 41ms/step - loss: 0.0017 - mean_absolute_error: 0.0298 - val_loss: 0.0061 - val_mean_absolute_error: 0.0546\n",
      "Epoch 43/50\n",
      "100/100 [==============================] - 4s 40ms/step - loss: 0.0016 - mean_absolute_error: 0.0292 - val_loss: 0.0061 - val_mean_absolute_error: 0.0547\n",
      "Epoch 44/50\n",
      "100/100 [==============================] - 4s 40ms/step - loss: 0.0015 - mean_absolute_error: 0.0288 - val_loss: 0.0061 - val_mean_absolute_error: 0.0551\n",
      "Epoch 45/50\n",
      "100/100 [==============================] - 4s 39ms/step - loss: 0.0016 - mean_absolute_error: 0.0297 - val_loss: 0.0059 - val_mean_absolute_error: 0.0541\n",
      "Epoch 46/50\n"
     ]
    },
    {
     "name": "stdout",
     "output_type": "stream",
     "text": [
      "100/100 [==============================] - 4s 39ms/step - loss: 0.0016 - mean_absolute_error: 0.0291 - val_loss: 0.0060 - val_mean_absolute_error: 0.0543\n",
      "Epoch 47/50\n",
      "100/100 [==============================] - 4s 39ms/step - loss: 0.0016 - mean_absolute_error: 0.0295 - val_loss: 0.0060 - val_mean_absolute_error: 0.0542\n",
      "Epoch 48/50\n",
      "100/100 [==============================] - 4s 40ms/step - loss: 0.0015 - mean_absolute_error: 0.0284 - val_loss: 0.0061 - val_mean_absolute_error: 0.0548\n",
      "Epoch 49/50\n",
      "100/100 [==============================] - 4s 39ms/step - loss: 0.0015 - mean_absolute_error: 0.0288 - val_loss: 0.0061 - val_mean_absolute_error: 0.0546\n",
      "Epoch 50/50\n",
      "100/100 [==============================] - 4s 38ms/step - loss: 0.0016 - mean_absolute_error: 0.0290 - val_loss: 0.0061 - val_mean_absolute_error: 0.0546\n"
     ]
    }
   ],
   "source": [
    "# 5-fold cross-validation \n",
    "num_folds = 5\n",
    "histories = []\n",
    "for fold in range(num_folds):\n",
    "    model = simple_convnet2d(concat_dataset.shape[2], concat_dataset.shape[3], concat_dataset.shape[4])\n",
    "\n",
    "    optimizer = tf.keras.optimizers.Adam(learning_rate=0.001)\n",
    "    model.compile(optimizer=optimizer,\n",
    "              loss=tf.keras.losses.MeanSquaredError(),\n",
    "              metrics=[tf.keras.metrics.MeanAbsoluteError()])\n",
    "    history = model.fit(folds_x_train[fold], \n",
    "                        folds_y_train[fold],\n",
    "                        epochs=50, \n",
    "                        batch_size=128,\n",
    "                        validation_data=(folds_x_test[fold], folds_y_test[fold]))\n",
    "    histories.append(history)\n",
    "    "
   ]
  },
  {
   "cell_type": "code",
   "execution_count": 271,
   "metadata": {},
   "outputs": [
    {
     "data": {
      "text/plain": [
       "dict_keys(['loss', 'mean_absolute_error'])"
      ]
     },
     "execution_count": 271,
     "metadata": {},
     "output_type": "execute_result"
    }
   ],
   "source": [
    "history.history.keys()"
   ]
  },
  {
   "cell_type": "code",
   "execution_count": 286,
   "metadata": {},
   "outputs": [],
   "source": [
    "fold_loss = [h.history['val_loss'][-1] for h in histories]\n",
    "fold_mae = [h.history['val_mean_absolute_error'][-1] for h in histories]\n",
    "fold_train_mae = [h.history['mean_absolute_error'][-1] for h in histories]"
   ]
  },
  {
   "cell_type": "code",
   "execution_count": 287,
   "metadata": {},
   "outputs": [
    {
     "data": {
      "image/png": "[encoded data removed]",
      "text/plain": [
       "<Figure size 2160x1440 with 1 Axes>"
      ]
     },
     "metadata": {
      "needs_background": "light"
     },
     "output_type": "display_data"
    }
   ],
   "source": [
    "import pandas as pd\n",
    "df = pd.DataFrame({\"Train MAE\":fold_train_mae,\n",
    "                   \"Val MAE\": fold_mae})\n",
    "boxplot = df.boxplot(column=list(df.keys()),\n",
    "                    figsize=(30, 20))\n",
    "\n",
    "title_boxplot = 'CNN 5-fold cross-validation'\n",
    "\n",
    "plt.title(title_boxplot)\n",
    "plt.show()"
   ]
  },
  {
   "cell_type": "code",
   "execution_count": 282,
   "metadata": {},
   "outputs": [
    {
     "data": {
      "text/plain": [
       "dict_keys(['loss', 'mean_absolute_error', 'val_loss', 'val_mean_absolute_error'])"
      ]
     },
     "execution_count": 282,
     "metadata": {},
     "output_type": "execute_result"
    }
   ],
   "source": [
    "histories[0].history.keys()"
   ]
  },
  {
   "cell_type": "code",
   "execution_count": null,
   "metadata": {},
   "outputs": [],
   "source": []
  }
 ],
 "metadata": {
  "kernelspec": {
   "display_name": "Python 3",
   "language": "python",
   "name": "python3"
  },
  "language_info": {
   "codemirror_mode": {
    "name": "ipython",
    "version": 3
   },
   "file_extension": ".py",
   "mimetype": "text/x-python",
   "name": "python",
   "nbconvert_exporter": "python",
   "pygments_lexer": "ipython3",
   "version": "3.8.5"
  }
 },
 "nbformat": 4,
 "nbformat_minor": 4
}
